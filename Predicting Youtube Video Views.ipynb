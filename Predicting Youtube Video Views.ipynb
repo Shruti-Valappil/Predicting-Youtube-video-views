{
 "cells": [
  {
   "cell_type": "markdown",
   "id": "42a46db8",
   "metadata": {},
   "source": [
    "# Predicting Youtube Video Views"
   ]
  },
  {
   "cell_type": "markdown",
   "id": "ac114e77",
   "metadata": {},
   "source": [
    "### Question: Can we predict how many views a Youtube video will get based on the number of likes, dislikes, the category of the video, and the year it was published."
   ]
  },
  {
   "cell_type": "code",
   "execution_count": 1,
   "id": "1c09028c",
   "metadata": {},
   "outputs": [
    {
     "name": "stdout",
     "output_type": "stream",
     "text": [
      "Mean Cross-validated MAE: 7020152.133161512\n",
      "Test Set MAE: 5132720.553719008\n"
     ]
    }
   ],
   "source": [
    "import pandas as pd\n",
    "from sklearn.tree import DecisionTreeRegressor\n",
    "from sklearn.model_selection import train_test_split, cross_val_score\n",
    "from sklearn.metrics import mean_absolute_error\n",
    "\n",
    "# Load the dataset\n",
    "df = pd.read_csv('top-1000-trending-youtube-videos.csv')\n",
    "\n",
    "# Data Cleaning: Remove commas and convert columns to numeric\n",
    "for col in ['Video views', 'Likes', 'Dislikes']:\n",
    "    df[col] = df[col].str.replace(',', '', regex=False)\n",
    "    df[col] = pd.to_numeric(df[col], errors='coerce')\n",
    "\n",
    "# Drop rows with missing values in relevant columns\n",
    "df_clean = df.dropna(subset=['Video views', 'Likes', 'Dislikes', 'Category'])\n",
    "\n",
    "# One-hot encode the categorical 'Category' column\n",
    "df_encoded = pd.get_dummies(df_clean, columns=['Category'], drop_first=True)\n",
    "\n",
    "# Define features and target\n",
    "X = df_encoded.drop(columns=['rank', 'Video', 'Video views'])\n",
    "Y = df_encoded['Video views']\n",
    "\n",
    "# Split data into training and testing sets\n",
    "X_train, X_test, Y_train, Y_test = train_test_split(X, Y, test_size=0.2, random_state=42)\n",
    "\n",
    "# Train a Decision Tree Regressor\n",
    "regressor = DecisionTreeRegressor(random_state=42)\n",
    "regressor.fit(X_train, Y_train)\n",
    "\n",
    "# Cross-validation (5-fold)\n",
    "cv_scores = cross_val_score(regressor, X_train, Y_train, scoring='neg_mean_absolute_error', cv=5)\n",
    "mean_cv_mae = -cv_scores.mean()\n",
    "\n",
    "# Predict and compute test mean absolute error (MAE)\n",
    "Y_pred = regressor.predict(X_test)\n",
    "test_mae = mean_absolute_error(Y_test, Y_pred)\n",
    "\n",
    "print(\"Mean Cross-validated MAE:\", mean_cv_mae)\n",
    "print(\"Test Set MAE:\", test_mae)"
   ]
  },
  {
   "cell_type": "markdown",
   "id": "af819485",
   "metadata": {},
   "source": [
    "To find out whether I could predict how many views a YouTube video will get, I used a Decision Tree Regressor on a dataset of the top 1000 trending YouTube videos. The dataset included information such as the number of views, likes, dislikes, video category, and the year each video was published. My goal was to use this information to build a regression model that could predict video views based on these features.\n",
    "\n",
    "I started by importing the necessary Python libraries for data processing and machine learning. After loading the dataset, I noticed that the numeric columns like Video views, Likes, and Dislikes were stored as strings with commas, so I cleaned them by removing the commas and converting the values to numeric types. I also removed any rows with missing values in these important columns to make sure the model would be trained on complete data.\n",
    "\n",
    "Next, I processed the Category column, which is a categorical feature, by using one-hot encoding. This allowed me to convert each category into a separate binary column so the model could understand and work with the category data. My feature set included likes, dislikes, the published year, and the one-hot encoded category columns. The target variable I wanted to predict was the number of video views.\n",
    "\n",
    "I then split the data into training and test sets, using 80% of the data for training and 20% for testing. I trained a Decision Tree Regressor on the training data. This model works by splitting the data based on feature values to create a tree of decisions that can be used for prediction. To check how well the model would generalize, I used 5-fold cross-validation on the training set. This helped me assess the model’s stability and performance across different subsets of the data.\n",
    "\n",
    "After training, I evaluated the model’s accuracy using Mean Absolute Error (MAE). On average, the model’s predictions were off by about 7 million views during cross-validation and about 5.1 million views on the test set. These results suggest that while the model could recognize some useful patterns, view counts are influenced by many other unpredictable factors — like thumbnail design, video title, celebrity appearances, and viral trends — that aren’t captured in the dataset.\n",
    "\n",
    "Overall, this code helped me build a working regression model and gave me a practical understanding of how well video metadata can (and can’t) predict YouTube view counts. While the accuracy wasn’t perfect, the project showed how machine learning can be used to explore and model real-world data in a meaningful way."
   ]
  },
  {
   "cell_type": "code",
   "execution_count": null,
   "id": "4118252e",
   "metadata": {},
   "outputs": [],
   "source": []
  }
 ],
 "metadata": {
  "kernelspec": {
   "display_name": "Python 3 (ipykernel)",
   "language": "python",
   "name": "python3"
  },
  "language_info": {
   "codemirror_mode": {
    "name": "ipython",
    "version": 3
   },
   "file_extension": ".py",
   "mimetype": "text/x-python",
   "name": "python",
   "nbconvert_exporter": "python",
   "pygments_lexer": "ipython3",
   "version": "3.11.5"
  }
 },
 "nbformat": 4,
 "nbformat_minor": 5
}
